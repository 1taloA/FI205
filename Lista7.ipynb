{
  "cells": [
    {
      "cell_type": "code",
      "execution_count": 154,
      "metadata": {
        "id": "77qrE7SiNfmd"
      },
      "outputs": [],
      "source": [
        "import cvxpy as cp\n",
        "import numpy as np\n",
        "import matplotlib.pyplot as plt"
      ]
    },
    {
      "cell_type": "code",
      "execution_count": null,
      "metadata": {
        "id": "r_j6dLgQNiZS"
      },
      "outputs": [],
      "source": [
        "from numpy.linalg import inv"
      ]
    },
    {
      "cell_type": "markdown",
      "metadata": {
        "id": "f7wR3UbuNprC"
      },
      "source": [
        "#Códigos da Questão 2"
      ]
    },
    {
      "cell_type": "code",
      "execution_count": null,
      "metadata": {
        "id": "1DC9btKENlj4"
      },
      "outputs": [],
      "source": [
        "M=np.zeros((16,16))\n",
        "\n",
        "\n",
        "M[0][0], M[0][4], M[0][8], M[0][12] = 1,1,-1,-1\n",
        "M[1][1], M[1][5], M[1][9], M[1][13] = 1,1,-1,-1\n",
        "M[2][2], M[2][6], M[2][10], M[2][14] = 1,1,-1,-1\n",
        "M[3][3], M[3][7], M[3][11], M[3][15] = 1,1,-1,-1\n",
        "M[4][0], M[4][8], M[4][4], M[4][12] = 1,1,-1,-1\n",
        "M[5][2], M[5][10], M[5][6], M[5][14] = 1,1,-1,-1\n",
        "M[6][1], M[6][9], M[6][5], M[6][13] = 1,1,-1,-1\n",
        "M[7][3], M[7][11], M[7][7], M[7][15] = 1,1,-1,-1\n",
        "M[8][0], M[8][12], M[8][4], M[8][8] = 1,1,-1,-1\n",
        "M[9][2], M[9][14], M[9][6], M[9][10] = 1,1,-1,-1\n",
        "M[10][1], M[10][13], M[10][5], M[10][9] = 1,1,-1,-1\n",
        "M[11][3], M[11][15], M[11][7], M[11][11] = 1,1,-1,-1\n",
        "M[12][0], M[12][4], M[12][8], M[12][12] = 1,1,1,1\n",
        "M[13][1], M[13][5], M[13][9], M[13][13] =1,1,1,1\n",
        "M[14][2],M[14][6],M[14][10],M[14][14] = 1,1,1,1\n",
        "M[15][3],M[15][7],M[15][11],M[15][15] = 1,1,1,1"
      ]
    },
    {
      "cell_type": "code",
      "execution_count": null,
      "metadata": {
        "colab": {
          "base_uri": "https://localhost:8080/"
        },
        "id": "6U2RGuiNNwQw",
        "outputId": "c3046b2f-eccc-424b-bb46-4261a01487b0"
      },
      "outputs": [
        {
          "data": {
            "text/plain": [
              "array([[ 0.25,  0.  ,  0.  ,  0.  ,  0.25,  0.  ,  0.  ,  0.  ,  0.25,\n",
              "         0.  ,  0.  ,  0.  ,  0.25,  0.  ,  0.  ,  0.  ],\n",
              "       [ 0.  ,  0.25,  0.  ,  0.  ,  0.  ,  0.  ,  0.25,  0.  ,  0.  ,\n",
              "         0.  ,  0.25,  0.  ,  0.  ,  0.25,  0.  ,  0.  ],\n",
              "       [ 0.  ,  0.  ,  0.25,  0.  ,  0.  ,  0.25,  0.  ,  0.  ,  0.  ,\n",
              "         0.25,  0.  ,  0.  ,  0.  ,  0.  ,  0.25,  0.  ],\n",
              "       [ 0.  ,  0.  ,  0.  ,  0.25,  0.  ,  0.  ,  0.  ,  0.25,  0.  ,\n",
              "         0.  ,  0.  ,  0.25,  0.  ,  0.  ,  0.  ,  0.25],\n",
              "       [ 0.25, -0.  , -0.  , -0.  , -0.25, -0.  , -0.  , -0.  , -0.25,\n",
              "        -0.  , -0.  , -0.  ,  0.25, -0.  , -0.  , -0.  ],\n",
              "       [-0.  ,  0.25, -0.  , -0.  , -0.  , -0.  , -0.25, -0.  , -0.  ,\n",
              "        -0.  , -0.25, -0.  , -0.  ,  0.25, -0.  , -0.  ],\n",
              "       [-0.  , -0.  ,  0.25, -0.  , -0.  , -0.25, -0.  , -0.  , -0.  ,\n",
              "        -0.25, -0.  , -0.  , -0.  , -0.  ,  0.25, -0.  ],\n",
              "       [-0.  , -0.  , -0.  ,  0.25, -0.  , -0.  , -0.  , -0.25, -0.  ,\n",
              "        -0.  , -0.  , -0.25, -0.  , -0.  , -0.  ,  0.25],\n",
              "       [-0.25, -0.  , -0.  , -0.  ,  0.25, -0.  , -0.  , -0.  , -0.25,\n",
              "        -0.  , -0.  , -0.  ,  0.25, -0.  , -0.  , -0.  ],\n",
              "       [-0.  , -0.25, -0.  , -0.  , -0.  , -0.  ,  0.25, -0.  , -0.  ,\n",
              "        -0.  , -0.25, -0.  , -0.  ,  0.25, -0.  , -0.  ],\n",
              "       [-0.  , -0.  , -0.25, -0.  , -0.  ,  0.25, -0.  , -0.  , -0.  ,\n",
              "        -0.25, -0.  , -0.  , -0.  , -0.  ,  0.25, -0.  ],\n",
              "       [-0.  , -0.  , -0.  , -0.25, -0.  , -0.  , -0.  ,  0.25, -0.  ,\n",
              "        -0.  , -0.  , -0.25, -0.  , -0.  , -0.  ,  0.25],\n",
              "       [-0.25,  0.  ,  0.  ,  0.  , -0.25,  0.  ,  0.  ,  0.  ,  0.25,\n",
              "         0.  ,  0.  ,  0.  ,  0.25,  0.  ,  0.  ,  0.  ],\n",
              "       [ 0.  , -0.25,  0.  ,  0.  ,  0.  ,  0.  , -0.25,  0.  ,  0.  ,\n",
              "         0.  ,  0.25,  0.  ,  0.  ,  0.25,  0.  ,  0.  ],\n",
              "       [ 0.  ,  0.  , -0.25,  0.  ,  0.  , -0.25,  0.  ,  0.  ,  0.  ,\n",
              "         0.25,  0.  ,  0.  ,  0.  ,  0.  ,  0.25,  0.  ],\n",
              "       [ 0.  ,  0.  ,  0.  , -0.25,  0.  ,  0.  ,  0.  , -0.25,  0.  ,\n",
              "         0.  ,  0.  ,  0.25,  0.  ,  0.  ,  0.  ,  0.25]])"
            ]
          },
          "execution_count": 4,
          "metadata": {},
          "output_type": "execute_result"
        }
      ],
      "source": [
        "inv(M)"
      ]
    },
    {
      "cell_type": "code",
      "execution_count": null,
      "metadata": {
        "colab": {
          "base_uri": "https://localhost:8080/"
        },
        "id": "EyfWtICUNxjZ",
        "outputId": "429b19fb-3b6e-4e56-8183-d9135f6fb3fe"
      },
      "outputs": [
        {
          "name": "stdout",
          "output_type": "stream",
          "text": [
            "0 0 1.0\n",
            "0 4 1.0\n",
            "0 8 -1.0\n",
            "0 12 -1.0\n",
            "1 1 1.0\n",
            "1 5 1.0\n",
            "1 9 -1.0\n",
            "1 13 -1.0\n",
            "2 2 1.0\n",
            "2 6 1.0\n",
            "2 10 -1.0\n",
            "2 14 -1.0\n",
            "3 3 1.0\n",
            "3 7 1.0\n",
            "3 11 -1.0\n",
            "3 15 -1.0\n",
            "4 0 1.0\n",
            "4 4 -1.0\n",
            "4 8 1.0\n",
            "4 12 -1.0\n",
            "5 2 1.0\n",
            "5 6 -1.0\n",
            "5 10 1.0\n",
            "5 14 -1.0\n",
            "6 1 1.0\n",
            "6 5 -1.0\n",
            "6 9 1.0\n",
            "6 13 -1.0\n",
            "7 3 1.0\n",
            "7 7 -1.0\n",
            "7 11 1.0\n",
            "7 15 -1.0\n",
            "8 0 1.0\n",
            "8 4 -1.0\n",
            "8 8 -1.0\n",
            "8 12 1.0\n",
            "9 2 1.0\n",
            "9 6 -1.0\n",
            "9 10 -1.0\n",
            "9 14 1.0\n",
            "10 1 1.0\n",
            "10 5 -1.0\n",
            "10 9 -1.0\n",
            "10 13 1.0\n",
            "11 3 1.0\n",
            "11 7 -1.0\n",
            "11 11 -1.0\n",
            "11 15 1.0\n",
            "12 0 1.0\n",
            "12 4 1.0\n",
            "12 8 1.0\n",
            "12 12 1.0\n",
            "13 1 1.0\n",
            "13 5 1.0\n",
            "13 9 1.0\n",
            "13 13 1.0\n",
            "14 2 1.0\n",
            "14 6 1.0\n",
            "14 10 1.0\n",
            "14 14 1.0\n",
            "15 3 1.0\n",
            "15 7 1.0\n",
            "15 11 1.0\n",
            "15 15 1.0\n"
          ]
        }
      ],
      "source": [
        "for i in range(16):\n",
        "  for j in range(16):\n",
        "    if (M[i][j]!=0.):\n",
        "      print(i,j,M[i][j])\n"
      ]
    },
    {
      "cell_type": "code",
      "execution_count": null,
      "metadata": {
        "colab": {
          "base_uri": "https://localhost:8080/"
        },
        "id": "8CAL8P5gN2QR",
        "outputId": "1ca3d637-3ae7-4909-a4f7-8feb7200b7ea"
      },
      "outputs": [
        {
          "data": {
            "text/plain": [
              "array([1., 1., 1., 1., 1., 1., 1., 1., 1., 1., 1., 1., 1., 1., 1., 1.])"
            ]
          },
          "execution_count": 6,
          "metadata": {},
          "output_type": "execute_result"
        }
      ],
      "source": [
        "v=np.zeros(16)\n",
        "v[0],v[1],v[2],v[3] = 1,1,1,1\n",
        "np.dot(M,v)"
      ]
    },
    {
      "cell_type": "code",
      "execution_count": null,
      "metadata": {
        "colab": {
          "base_uri": "https://localhost:8080/"
        },
        "id": "IcYzFcAQOKt1",
        "outputId": "d3f5ff01-69be-4fc1-f49b-2529e87233f4"
      },
      "outputs": [
        {
          "data": {
            "text/plain": [
              "array([ 1.,  1.,  1.,  1.,  1.,  1., -1., -1.,  1.,  1., -1., -1.,  1.,\n",
              "        1.,  1.,  1.])"
            ]
          },
          "execution_count": 7,
          "metadata": {},
          "output_type": "execute_result"
        }
      ],
      "source": [
        "v=np.zeros(16)\n",
        "v[0],v[2],v[5],v[7] = 1,1,1,1\n",
        "np.dot(M,v)"
      ]
    },
    {
      "cell_type": "code",
      "execution_count": null,
      "metadata": {
        "colab": {
          "base_uri": "https://localhost:8080/"
        },
        "id": "4sHkng-YOMKC",
        "outputId": "e4e2afec-881c-4b60-d853-d8657d2b8804"
      },
      "outputs": [
        {
          "data": {
            "text/plain": [
              "array([ 1.,  1.,  1.,  1., -1., -1.,  1.,  1., -1., -1.,  1.,  1.,  1.,\n",
              "        1.,  1.,  1.])"
            ]
          },
          "execution_count": 8,
          "metadata": {},
          "output_type": "execute_result"
        }
      ],
      "source": [
        "v=np.zeros(16)\n",
        "v[1],v[3],v[4],v[6] = 1,1,1,1\n",
        "np.dot(M,v)"
      ]
    },
    {
      "cell_type": "code",
      "execution_count": null,
      "metadata": {
        "colab": {
          "base_uri": "https://localhost:8080/"
        },
        "id": "qXcFLRFuONrF",
        "outputId": "69a9a74c-55d1-4206-df9d-7f0fa81da3a5"
      },
      "outputs": [
        {
          "data": {
            "text/plain": [
              "array([ 1.,  1.,  1.,  1., -1., -1., -1., -1., -1., -1., -1., -1.,  1.,\n",
              "        1.,  1.,  1.])"
            ]
          },
          "execution_count": 9,
          "metadata": {},
          "output_type": "execute_result"
        }
      ],
      "source": [
        "v=np.zeros(16)\n",
        "v[4],v[5],v[6],v[7] = 1,1,1,1\n",
        "np.dot(M,v)"
      ]
    },
    {
      "cell_type": "code",
      "execution_count": null,
      "metadata": {
        "colab": {
          "base_uri": "https://localhost:8080/"
        },
        "id": "znGTVFeoOPIg",
        "outputId": "88026263-af13-411d-cac9-3a001d40d0be"
      },
      "outputs": [
        {
          "data": {
            "text/plain": [
              "array([ 1.,  1., -1., -1.,  1.,  1.,  1.,  1.,  1., -1.,  1., -1.,  1.,\n",
              "        1.,  1.,  1.])"
            ]
          },
          "execution_count": 10,
          "metadata": {},
          "output_type": "execute_result"
        }
      ],
      "source": [
        "v=np.zeros(16)\n",
        "v[0],v[1],v[10],v[11] = 1,1,1,1\n",
        "np.dot(M,v)"
      ]
    },
    {
      "cell_type": "code",
      "execution_count": null,
      "metadata": {
        "colab": {
          "base_uri": "https://localhost:8080/"
        },
        "id": "ejzgynFPOQaS",
        "outputId": "11e58763-c68d-4f9b-f757-5c64ffaa652c"
      },
      "outputs": [
        {
          "data": {
            "text/plain": [
              "array([ 1.,  1., -1., -1.,  1.,  1., -1., -1.,  1., -1., -1.,  1.,  1.,\n",
              "        1.,  1.,  1.])"
            ]
          },
          "execution_count": 11,
          "metadata": {},
          "output_type": "execute_result"
        }
      ],
      "source": [
        "v=np.zeros(16)\n",
        "v[0],v[5],v[10],v[15] = 1,1,1,1\n",
        "np.dot(M,v)"
      ]
    },
    {
      "cell_type": "code",
      "execution_count": null,
      "metadata": {
        "colab": {
          "base_uri": "https://localhost:8080/"
        },
        "id": "WycCRSifORmr",
        "outputId": "4ced83fe-8e49-454b-898f-9aef38247f5c"
      },
      "outputs": [
        {
          "data": {
            "text/plain": [
              "array([ 1.,  1., -1., -1., -1., -1.,  1.,  1., -1.,  1.,  1., -1.,  1.,\n",
              "        1.,  1.,  1.])"
            ]
          },
          "execution_count": 12,
          "metadata": {},
          "output_type": "execute_result"
        }
      ],
      "source": [
        "v=np.zeros(16)\n",
        "v[1],v[4],v[11],v[14] = 1,1,1,1\n",
        "np.dot(M,v)"
      ]
    },
    {
      "cell_type": "code",
      "execution_count": null,
      "metadata": {
        "colab": {
          "base_uri": "https://localhost:8080/"
        },
        "id": "dvW5OrTFOSxh",
        "outputId": "818bdf80-1b7d-4fd5-efca-3a4a9699ee16"
      },
      "outputs": [
        {
          "data": {
            "text/plain": [
              "array([ 1.,  1., -1., -1., -1., -1., -1., -1., -1.,  1., -1.,  1.,  1.,\n",
              "        1.,  1.,  1.])"
            ]
          },
          "execution_count": 13,
          "metadata": {},
          "output_type": "execute_result"
        }
      ],
      "source": [
        "v=np.zeros(16)\n",
        "v[4],v[5],v[14],v[15] = 1,1,1,1\n",
        "np.dot(M,v)"
      ]
    },
    {
      "cell_type": "code",
      "execution_count": null,
      "metadata": {
        "colab": {
          "base_uri": "https://localhost:8080/"
        },
        "id": "nAtTkVNYOT9S",
        "outputId": "3b23c50a-2ddb-424e-b24b-2ae087401b98"
      },
      "outputs": [
        {
          "data": {
            "text/plain": [
              "array([-1., -1.,  1.,  1.,  1.,  1.,  1.,  1., -1.,  1., -1.,  1.,  1.,\n",
              "        1.,  1.,  1.])"
            ]
          },
          "execution_count": 14,
          "metadata": {},
          "output_type": "execute_result"
        }
      ],
      "source": [
        "v=np.zeros(16)\n",
        "v[2],v[3],v[8],v[9] = 1,1,1,1\n",
        "np.dot(M,v)"
      ]
    },
    {
      "cell_type": "code",
      "execution_count": null,
      "metadata": {
        "colab": {
          "base_uri": "https://localhost:8080/"
        },
        "id": "nl3g7xjWOVTd",
        "outputId": "6f16f7c6-1d8a-42e6-8af2-f5305d169ca0"
      },
      "outputs": [
        {
          "data": {
            "text/plain": [
              "array([-1., -1.,  1.,  1.,  1.,  1., -1., -1., -1.,  1.,  1., -1.,  1.,\n",
              "        1.,  1.,  1.])"
            ]
          },
          "execution_count": 15,
          "metadata": {},
          "output_type": "execute_result"
        }
      ],
      "source": [
        "v=np.zeros(16)\n",
        "v[2],v[7],v[8],v[13] = 1,1,1,1\n",
        "np.dot(M,v)"
      ]
    },
    {
      "cell_type": "code",
      "execution_count": null,
      "metadata": {
        "colab": {
          "base_uri": "https://localhost:8080/"
        },
        "id": "4wRtE4_EOWrb",
        "outputId": "58b1ccae-0397-40c3-c32c-4441603f79c1"
      },
      "outputs": [
        {
          "data": {
            "text/plain": [
              "array([-1., -1.,  1.,  1., -1., -1.,  1.,  1.,  1., -1., -1.,  1.,  1.,\n",
              "        1.,  1.,  1.])"
            ]
          },
          "execution_count": 16,
          "metadata": {},
          "output_type": "execute_result"
        }
      ],
      "source": [
        "v=np.zeros(16)\n",
        "v[3],v[6],v[9],v[12] = 1,1,1,1\n",
        "np.dot(M,v)"
      ]
    },
    {
      "cell_type": "code",
      "execution_count": null,
      "metadata": {
        "colab": {
          "base_uri": "https://localhost:8080/"
        },
        "id": "B0_YoYycOX3G",
        "outputId": "bc4deae5-5c1b-4b57-d532-4820f550f424"
      },
      "outputs": [
        {
          "data": {
            "text/plain": [
              "array([-1., -1.,  1.,  1., -1., -1., -1., -1.,  1., -1.,  1., -1.,  1.,\n",
              "        1.,  1.,  1.])"
            ]
          },
          "execution_count": 17,
          "metadata": {},
          "output_type": "execute_result"
        }
      ],
      "source": [
        "v=np.zeros(16)\n",
        "v[6],v[7],v[12],v[13] = 1,1,1,1\n",
        "np.dot(M,v)"
      ]
    },
    {
      "cell_type": "code",
      "execution_count": null,
      "metadata": {
        "colab": {
          "base_uri": "https://localhost:8080/"
        },
        "id": "vmwWZRNAOZAK",
        "outputId": "425a83a7-a347-420a-d5a9-0f941143ffbb"
      },
      "outputs": [
        {
          "data": {
            "text/plain": [
              "array([-1., -1., -1., -1.,  1.,  1.,  1.,  1., -1., -1., -1., -1.,  1.,\n",
              "        1.,  1.,  1.])"
            ]
          },
          "execution_count": 18,
          "metadata": {},
          "output_type": "execute_result"
        }
      ],
      "source": [
        "v=np.zeros(16)\n",
        "v[8],v[9],v[10],v[11] = 1,1,1,1\n",
        "np.dot(M,v)"
      ]
    },
    {
      "cell_type": "code",
      "execution_count": null,
      "metadata": {
        "colab": {
          "base_uri": "https://localhost:8080/"
        },
        "id": "ocGqykuiOaJg",
        "outputId": "c6cd0223-c5e6-47a0-f599-d074c668a027"
      },
      "outputs": [
        {
          "data": {
            "text/plain": [
              "array([-1., -1., -1., -1.,  1.,  1., -1., -1., -1., -1.,  1.,  1.,  1.,\n",
              "        1.,  1.,  1.])"
            ]
          },
          "execution_count": 19,
          "metadata": {},
          "output_type": "execute_result"
        }
      ],
      "source": [
        "v=np.zeros(16)\n",
        "v[8],v[10],v[13],v[15] = 1,1,1,1\n",
        "np.dot(M,v)"
      ]
    },
    {
      "cell_type": "code",
      "execution_count": null,
      "metadata": {
        "colab": {
          "base_uri": "https://localhost:8080/"
        },
        "id": "XtDf01pSObXA",
        "outputId": "d3d43003-ee6e-4c1f-823c-ce6745a72982"
      },
      "outputs": [
        {
          "data": {
            "text/plain": [
              "array([-1., -1., -1., -1., -1., -1.,  1.,  1.,  1.,  1., -1., -1.,  1.,\n",
              "        1.,  1.,  1.])"
            ]
          },
          "execution_count": 20,
          "metadata": {},
          "output_type": "execute_result"
        }
      ],
      "source": [
        "v=np.zeros(16)\n",
        "v[9],v[11],v[12],v[14] = 1,1,1,1\n",
        "np.dot(M,v)"
      ]
    },
    {
      "cell_type": "code",
      "execution_count": null,
      "metadata": {
        "colab": {
          "base_uri": "https://localhost:8080/"
        },
        "id": "mC2BRBp9Ocop",
        "outputId": "0bed7fda-7a7d-4237-8049-4354fe2fa1ef"
      },
      "outputs": [
        {
          "data": {
            "text/plain": [
              "array([-1., -1., -1., -1., -1., -1., -1., -1.,  1.,  1.,  1.,  1.,  1.,\n",
              "        1.,  1.,  1.])"
            ]
          },
          "execution_count": 21,
          "metadata": {},
          "output_type": "execute_result"
        }
      ],
      "source": [
        "v=np.zeros(16)\n",
        "v[12],v[13],v[14],v[15] = 1,1,1,1\n",
        "np.dot(M,v)"
      ]
    },
    {
      "cell_type": "code",
      "execution_count": null,
      "metadata": {
        "id": "1pwh3eVBOd72"
      },
      "outputs": [],
      "source": []
    },
    {
      "cell_type": "markdown",
      "metadata": {
        "id": "GU8GkDdAOgbS"
      },
      "source": [
        "# Códigos Questão 5"
      ]
    },
    {
      "cell_type": "code",
      "execution_count": 155,
      "metadata": {
        "colab": {
          "base_uri": "https://localhost:8080/",
          "height": 448
        },
        "id": "28yRpQLI8uQH",
        "outputId": "6f0bd075-cb6f-464f-e010-7c4821d0a575"
      },
      "outputs": [
        {
          "data": {
            "text/plain": [
              "[<matplotlib.lines.Line2D at 0x7af149bb9210>]"
            ]
          },
          "execution_count": 155,
          "metadata": {},
          "output_type": "execute_result"
        },
        {
          "data": {
            "image/png": "[encoded data removed]",
            "text/plain": [
              "<Figure size 640x480 with 1 Axes>"
            ]
          },
          "metadata": {},
          "output_type": "display_data"
        }
      ],
      "source": [
        "N=16 # Dimensão\n",
        "alphastar=[] #Array de soluções\n",
        "B=np.linspace(0,1,20) #Array de beta\n",
        "\n",
        "\n",
        "b=cp.Parameter(nonneg=True)\n",
        "alpha= cp.Variable(nonneg=True)\n",
        "\n",
        "c1=np.ones((1,N))\n",
        "\n",
        "\n",
        "\n",
        "# Matriz inicial contendo apenas a soma dos p(a0,a1,b0,b1) correspondentes a diferentes p(a,b|x,y)\n",
        "M=np.zeros((N,N))\n",
        "M[0][0],M[0][1],M[0][4],M[0][5] = 1,1,1,1\n",
        "M[1][8],M[1][12],M[1][9],M[1][13] = 1,1,1,1 #\n",
        "M[2][2],M[2][6],M[2][3],M[2][7] = 1,1,1,1 #\n",
        "M[3][10],M[3][14],M[3][11],M[3][15] = 1,1,1,1 #\n",
        "M[4][0],M[4][8],M[4][1],M[4][9] = 1,1,1,1 #\n",
        "M[5][4],M[5][12],M[5][5],M[5][13] = 1,1,1,1 #\n",
        "M[6][2],M[6][10],M[6][3],M[6][11] = 1,1,1,1 #\n",
        "M[7][6],M[7][14],M[7][7],M[7][15] = 1,1,1,1 #\n",
        "M[8][0],M[8][4],M[8][2],M[8][6] = 1,1,1,1 #\n",
        "M[9][8],M[9][10],M[9][12],M[9][14] = 1,1,1,1 #\n",
        "M[10][1],M[10][3],M[10][5],M[10][7] = 1,1,1,1 #\n",
        "M[11][9],M[11][11],M[11][13],M[11][15] = 1,1,1,1  #\n",
        "M[12][0],M[12][8],M[12][2],M[12][10] = 1,1,1,1 #\n",
        "M[13][4],M[13][6],M[13][12],M[13][14] = 1,1,1,1 #\n",
        "M[14][1],M[14][9],M[14][3],M[14][11] = 1,1,1,1  #\n",
        "M[15][5],M[15][13],M[15][7],M[15][15] = 1,1,1,1 #\n",
        "\n",
        "\n",
        "#Reoordenamento da matriz para corresponder a posição de p(ab|xy) corretamente\n",
        "A=np.zeros((16,16))\n",
        "position_list=(0,8,4,12,2,10,6,14,1,9,5,13,3,11,7,15)\n",
        "for i in range(16):\n",
        "  j=position_list[i]\n",
        "  A[j]=M[i]\n",
        "\n",
        "#Definição dos vetores\n",
        "p_I = np.full((16,1),1/4)\n",
        "p_L=np.zeros((16,1))\n",
        "p_PR=np.zeros((16,1))\n",
        "p_L[0],p_L[1],p_L[2],p_L[3] = 1,1,1,1\n",
        "p_PR[0],p_PR[1],p_PR[2],p_PR[7],p_PR[11],p_PR[12],p_PR[13],p_PR[14] = .5,.5,.5,.5,.5,.5,.5,.5\n",
        "\n",
        "\n",
        "#Loop de Minimização\n",
        "\n",
        "for h in B:\n",
        "  b.value=h\n",
        "  p = cp.Variable(shape=(16,1), nonneg=True)\n",
        "  p_ab = alpha*p_PR + (1-alpha)*(b*p_L + (1-b)*p_I)\n",
        "  normal=cp.matmul(c1,p)\n",
        "  restrictions=[]\n",
        "  restrictions.append(alpha<=1)\n",
        "  restrictions.append(normal==1)\n",
        "  restrictions.append(cp.matmul(A,p) == p_ab)\n",
        "  prob = cp.Problem(cp.Maximize(alpha),\n",
        "                restrictions)\n",
        "  prob.solve()\n",
        "  alphastar.append(alpha.value)\n",
        "plt.plot(B,alphastar)\n"
      ]
    },
    {
      "cell_type": "code",
      "execution_count": null,
      "metadata": {
        "id": "mYU_-4e78v9B"
      },
      "outputs": [],
      "source": []
    }
  ],
  "metadata": {
    "colab": {
      "collapsed_sections": [
        "f7wR3UbuNprC",
        "GU8GkDdAOgbS"
      ],
      "provenance": []
    },
    "kernelspec": {
      "display_name": "Python 3",
      "name": "python3"
    },
    "language_info": {
      "name": "python"
    }
  },
  "nbformat": 4,
  "nbformat_minor": 0
}
