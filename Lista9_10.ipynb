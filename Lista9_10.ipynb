{
  "nbformat": 4,
  "nbformat_minor": 0,
  "metadata": {
    "colab": {
      "provenance": []
    },
    "kernelspec": {
      "name": "python3",
      "display_name": "Python 3"
    },
    "language_info": {
      "name": "python"
    }
  },
  "cells": [
    {
      "cell_type": "code",
      "execution_count": null,
      "metadata": {
        "id": "Fg3x_BEnpQVe"
      },
      "outputs": [],
      "source": [
        "import numpy as np\n",
        "import cvxpy as cp"
      ]
    },
    {
      "cell_type": "code",
      "source": [
        "pD=[[1,1,0,0],[0,1,1,0],[1,0,0,1],[0,0,1,1]]"
      ],
      "metadata": {
        "id": "yqRYntUlzfuf"
      },
      "execution_count": null,
      "outputs": []
    },
    {
      "cell_type": "markdown",
      "source": [
        "Assemblage para um estado $|\\phi+ \\rangle$ e operadores $\\sigma_x$ e $\\sigma_z $"
      ],
      "metadata": {
        "id": "QAIySzMn-frO"
      }
    },
    {
      "cell_type": "code",
      "source": [
        "s0 = np.array([[1,0],[0,0]])/2\n",
        "s1 = np.array([[0,0],[0,1]])/2\n",
        "s2 = np.array([[1,1],[1,1]])/4\n",
        "s3 = np.array([[1,-1],[-1,1]])/4"
      ],
      "metadata": {
        "id": "cyeJRaGXz3ov"
      },
      "execution_count": null,
      "outputs": []
    },
    {
      "cell_type": "code",
      "source": [
        "F00 = cp.Variable((2,2),hermitian=True)\n",
        "F10 = cp.Variable((2,2),hermitian=True)\n",
        "F01 = cp.Variable((2,2),hermitian=True)\n",
        "F11 = cp.Variable((2,2),hermitian=True)\n",
        "F=[F00,F01,F10,F11]"
      ],
      "metadata": {
        "id": "3vUmxWEs0ALO"
      },
      "execution_count": null,
      "outputs": []
    },
    {
      "cell_type": "code",
      "source": [
        "K = F00@s0+F01@s2+F10@s1+F11@s3\n"
      ],
      "metadata": {
        "id": "i2T3yxUc0IcG"
      },
      "execution_count": null,
      "outputs": []
    },
    {
      "cell_type": "code",
      "source": [
        "constraints = [F00*pD[0][0]+F01*pD[0][1]+F10*pD[0][2]+F11*pD[0][3] >> 0,\n",
        "               F00*pD[1][0]+F01*pD[1][1]+F10*pD[1][2]+F11*pD[1][3] >> 0,\n",
        "               F00*pD[2][0]+F01*pD[2][1]+F10*pD[2][2]+F11*pD[2][3] >> 0,\n",
        "               F00*pD[3][0]+F01*pD[3][1]+F10*pD[3][2]+F11*pD[3][3] >> 0,\n",
        "               cp.trace(F00*pD[0][0]+F01*pD[0][1]+F10*pD[0][2]+F11*pD[0][3]+\n",
        "                        F00*pD[1][0]+F01*pD[1][1]+F10*pD[1][2]+F11*pD[1][3]+\n",
        "                        F00*pD[2][0]+F01*pD[2][1]+F10*pD[2][2]+F11*pD[2][3]+\n",
        "                        F00*pD[3][0]+F01*pD[3][1]+F10*pD[3][2]+F11*pD[3][3])==1]\n"
      ],
      "metadata": {
        "id": "n_lE8-Xy-MtK"
      },
      "execution_count": null,
      "outputs": []
    },
    {
      "cell_type": "code",
      "source": [
        "obj = cp.Minimize(cp.real(cp.trace(K)))\n",
        "\n",
        "prob = cp.Problem(obj, constraints)\n",
        "prob.solve()"
      ],
      "metadata": {
        "colab": {
          "base_uri": "https://localhost:8080/"
        },
        "id": "8lVwEebN2EvO",
        "outputId": "15f76802-924a-4a5f-fb3f-7822af91ef0e"
      },
      "execution_count": null,
      "outputs": [
        {
          "output_type": "execute_result",
          "data": {
            "text/plain": [
              "-0.051776696300321945"
            ]
          },
          "metadata": {},
          "execution_count": 153
        }
      ]
    },
    {
      "cell_type": "code",
      "source": [],
      "metadata": {
        "id": "UCnlRGFnAUJd"
      },
      "execution_count": null,
      "outputs": []
    }
  ]
}